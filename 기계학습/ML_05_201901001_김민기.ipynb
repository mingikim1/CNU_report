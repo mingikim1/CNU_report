{
  "nbformat": 4,
  "nbformat_minor": 0,
  "metadata": {
    "colab": {
      "provenance": []
    },
    "kernelspec": {
      "name": "python3",
      "display_name": "Python 3"
    },
    "language_info": {
      "name": "python"
    }
  },
  "cells": [
    {
      "cell_type": "code",
      "execution_count": 76,
      "metadata": {
        "id": "mE2g9YS6jR65",
        "colab": {
          "base_uri": "https://localhost:8080/"
        },
        "outputId": "2f2a0706-8853-4711-bb9a-c04a4061713a"
      },
      "outputs": [
        {
          "output_type": "stream",
          "name": "stdout",
          "text": [
            "Drive already mounted at /content/drive; to attempt to forcibly remount, call drive.mount(\"/content/drive\", force_remount=True).\n"
          ]
        }
      ],
      "source": [
        "from google.colab import drive\n",
        "drive.mount('/content/drive')"
      ]
    },
    {
      "cell_type": "code",
      "source": [
        "import pandas as pd\n",
        "import numpy as np\n",
        "import matplotlib.pyplot as plt"
      ],
      "metadata": {
        "id": "o-bB5CYpgJXm"
      },
      "execution_count": 77,
      "outputs": []
    },
    {
      "cell_type": "code",
      "source": [
        "train = np.loadtxt(\"/content/drive/MyDrive/ML_Lab/report/5/lab5_train.csv\", delimiter = ',')\n",
        "test = np.loadtxt(\"/content/drive/MyDrive/ML_Lab/report/5/lab5_test.csv\", delimiter = ',')"
      ],
      "metadata": {
        "id": "TSLgn2YSgP02"
      },
      "execution_count": 78,
      "outputs": []
    },
    {
      "cell_type": "code",
      "source": [
        "print(\"---Train---\")\n",
        "print(train)\n",
        "print('\\n')\n",
        "print(\"---Test---\")\n",
        "print(test)"
      ],
      "metadata": {
        "colab": {
          "base_uri": "https://localhost:8080/"
        },
        "id": "HEiYsYIHgQJ9",
        "outputId": "62fc3648-ddec-44c4-8dad-5b7b4f0b7645"
      },
      "execution_count": 79,
      "outputs": [
        {
          "output_type": "stream",
          "name": "stdout",
          "text": [
            "---Train---\n",
            "[[  0.     0.     0.27 ...   6.    55.     0.  ]\n",
            " [  0.74   0.     0.   ...   7.    44.     1.  ]\n",
            " [  0.9    0.     0.9  ...  54.   162.     1.  ]\n",
            " ...\n",
            " [  0.     0.     0.   ...  39.    91.     1.  ]\n",
            " [  0.     0.     0.   ...   2.     5.     0.  ]\n",
            " [  0.     0.     0.   ...   6.     8.     0.  ]]\n",
            "\n",
            "\n",
            "---Test---\n",
            "[[1.70e-01 0.00e+00 2.60e-01 ... 2.00e+01 6.46e+02 0.00e+00]\n",
            " [0.00e+00 0.00e+00 0.00e+00 ... 1.90e+01 2.03e+02 0.00e+00]\n",
            " [6.80e-01 1.10e-01 1.10e-01 ... 1.64e+02 1.59e+03 1.00e+00]\n",
            " ...\n",
            " [0.00e+00 0.00e+00 5.40e-01 ... 1.20e+01 8.90e+01 0.00e+00]\n",
            " [9.00e-02 0.00e+00 9.00e-02 ... 4.94e+02 1.46e+03 1.00e+00]\n",
            " [6.30e-01 6.30e-01 6.30e-01 ... 1.90e+01 1.26e+02 1.00e+00]]\n"
          ]
        }
      ]
    },
    {
      "cell_type": "code",
      "source": [
        "x_train = train[:,:-1]\n",
        "y_train = train[:,-1]\n",
        "\n",
        "x_test = test[:, :-1]\n",
        "y_test = test[:,-1]"
      ],
      "metadata": {
        "id": "ml5TVpJBhorc"
      },
      "execution_count": 80,
      "outputs": []
    },
    {
      "cell_type": "code",
      "source": [
        "from sklearn.model_selection import train_test_split\n",
        "from sklearn.svm import SVC"
      ],
      "metadata": {
        "id": "vd44BNjeBAvP"
      },
      "execution_count": 81,
      "outputs": []
    },
    {
      "cell_type": "code",
      "source": [
        "# validation set을 설정하여 하이퍼파라미터 찾기\n",
        "\n",
        "def SVM_best_param_Val(x_train, y_train) :\n",
        "\n",
        "  # validation set 설정\n",
        "  x_train, x_val, y_train, y_val = train_test_split(x_train, y_train, test_size = 0.2, random_state = 0)\n",
        "\n",
        "  # score, C, kernel 초기화\n",
        "  best_score = 0\n",
        "  best_C = 0\n",
        "  best_kernel = ''\n",
        "\n",
        "  C_list = [0.1, 0.5, 1, 5, 10]\n",
        "  kernel_list = ['linear', 'rbf', 'poly', 'sigmoid']\n",
        "\n",
        "  for C in C_list :\n",
        "    for kernel in kernel_list :\n",
        "\n",
        "      svm = SVC(C = C, kernel = kernel)\n",
        "      svm.fit(x_train, y_train)\n",
        "\n",
        "      score = svm.score(x_val, y_val)\n",
        "\n",
        "      if score > best_score :\n",
        "        best_score = score\n",
        "        best_C = C\n",
        "        best_kernel = kernel\n",
        "\n",
        "        return best_score, best_C, best_kernel"
      ],
      "metadata": {
        "id": "3Afuoh0EAp65"
      },
      "execution_count": 82,
      "outputs": []
    },
    {
      "cell_type": "code",
      "source": [
        "SVM_best_param_Val(x_train, y_train)"
      ],
      "metadata": {
        "colab": {
          "base_uri": "https://localhost:8080/"
        },
        "id": "wlzr9JEUCP5P",
        "outputId": "6f7edc54-fae7-47b6-f3b7-ac73f7143508"
      },
      "execution_count": 83,
      "outputs": [
        {
          "output_type": "execute_result",
          "data": {
            "text/plain": [
              "(0.9310344827586207, 0.1, 'linear')"
            ]
          },
          "metadata": {},
          "execution_count": 83
        }
      ]
    },
    {
      "cell_type": "code",
      "source": [
        "clf = SVC(C = 0.1, kernel = 'linear')\n",
        "clf.fit(x_train, y_train)\n",
        "print(clf.score(x_test, y_test))"
      ],
      "metadata": {
        "colab": {
          "base_uri": "https://localhost:8080/"
        },
        "id": "_2y3dWXPH0kv",
        "outputId": "c10bedd4-5607-4555-bcdf-ba310f45d098"
      },
      "execution_count": 84,
      "outputs": [
        {
          "output_type": "stream",
          "name": "stdout",
          "text": [
            "0.9027777777777778\n"
          ]
        }
      ]
    },
    {
      "cell_type": "code",
      "source": [
        "from sklearn.model_selection import KFold\n",
        "from sklearn.model_selection import GridSearchCV\n",
        "\n",
        "# 교차검증과 그리드 서치를 이용한 파라미터 찾기\n",
        "\n",
        "def SVM_best_param_crossVal(x_train, y_train, n_splits) :\n",
        "\n",
        "  kf = KFold(n_splits = n_splits, shuffle = True, random_state = 0)\n",
        "\n",
        "  svm = SVC()\n",
        "\n",
        "  param_grid = {'C' : [0.1, 0.5, 1, 5, 10], 'kernel' : ['linear', 'rbf', 'poly', 'sigmoid']}\n",
        "\n",
        "  grid_search = GridSearchCV(estimator = svm, param_grid = param_grid, cv = kf)\n",
        "  grid_search.fit(x_train, y_train)\n",
        "\n",
        "  return grid_search.best_params_"
      ],
      "metadata": {
        "id": "KwOiNz03gLw4"
      },
      "execution_count": 85,
      "outputs": []
    },
    {
      "cell_type": "code",
      "source": [
        "SVM_best_param_crossVal(x_train, y_train, 5)"
      ],
      "metadata": {
        "colab": {
          "base_uri": "https://localhost:8080/"
        },
        "id": "yFRXIKznJo4N",
        "outputId": "fc64d22e-69a4-400d-8fb4-9e5066d9c746"
      },
      "execution_count": 86,
      "outputs": [
        {
          "output_type": "execute_result",
          "data": {
            "text/plain": [
              "{'C': 1, 'kernel': 'linear'}"
            ]
          },
          "metadata": {},
          "execution_count": 86
        }
      ]
    },
    {
      "cell_type": "code",
      "source": [
        "clf = SVC(C = 1, kernel = 'linear')\n",
        "clf.fit(x_train, y_train)\n",
        "print(clf.score(x_test, y_test))"
      ],
      "metadata": {
        "colab": {
          "base_uri": "https://localhost:8080/"
        },
        "id": "635IH1LILl8z",
        "outputId": "b0479652-a642-4a29-9924-8382918f6489"
      },
      "execution_count": 87,
      "outputs": [
        {
          "output_type": "stream",
          "name": "stdout",
          "text": [
            "0.9444444444444444\n"
          ]
        }
      ]
    },
    {
      "cell_type": "code",
      "source": [
        "# 최적의 하이퍼파라미터를 이용하여 전체 train_set을 최종학습하는 함수\n",
        "\n",
        "def SVM_best(x_train, y_train, best_C, best_kernel) :\n",
        "  svm_final = SVC(C = best_C, kernel = best_kernel)\n",
        "\n",
        "  svm_final.fit(x_train, y_train)\n",
        "\n",
        "  return svm_final"
      ],
      "metadata": {
        "id": "X8OE7JUlK1Hr"
      },
      "execution_count": 88,
      "outputs": []
    },
    {
      "cell_type": "code",
      "source": [
        "svm_final_model = SVM_best(x_train, y_train, 1, 'linear')"
      ],
      "metadata": {
        "id": "HYdr144ILlb7"
      },
      "execution_count": 89,
      "outputs": []
    },
    {
      "cell_type": "code",
      "source": [
        "# test_set을 활용하여 정확도를 프린트 하는 함수\n",
        "\n",
        "def SVM_score(model, x_test, y_test) :\n",
        "  print(\"final score: \" + str(model.score(x_test, y_test)))"
      ],
      "metadata": {
        "id": "1nayaVGtMZzX"
      },
      "execution_count": 90,
      "outputs": []
    },
    {
      "cell_type": "code",
      "source": [
        "SVM_score(svm_final_model, x_test, y_test)"
      ],
      "metadata": {
        "colab": {
          "base_uri": "https://localhost:8080/"
        },
        "id": "SnN9Qz65M3op",
        "outputId": "afe10ac0-9737-43ea-c454-d89520af47b7"
      },
      "execution_count": 91,
      "outputs": [
        {
          "output_type": "stream",
          "name": "stdout",
          "text": [
            "final score: 0.9444444444444444\n"
          ]
        }
      ]
    }
  ]
}