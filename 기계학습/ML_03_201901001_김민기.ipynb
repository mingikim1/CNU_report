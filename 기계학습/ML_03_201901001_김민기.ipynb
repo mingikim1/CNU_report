{
  "nbformat": 4,
  "nbformat_minor": 0,
  "metadata": {
    "colab": {
      "provenance": []
    },
    "kernelspec": {
      "name": "python3",
      "display_name": "Python 3"
    },
    "language_info": {
      "name": "python"
    }
  },
  "cells": [
    {
      "cell_type": "code",
      "execution_count": 7,
      "metadata": {
        "colab": {
          "base_uri": "https://localhost:8080/"
        },
        "id": "vriMVWKKdOMs",
        "outputId": "f2576b00-e91b-4892-c8dd-6f165d5a17c2"
      },
      "outputs": [
        {
          "output_type": "stream",
          "name": "stdout",
          "text": [
            "Drive already mounted at /content/drive; to attempt to forcibly remount, call drive.mount(\"/content/drive\", force_remount=True).\n"
          ]
        }
      ],
      "source": [
        "from google.colab import drive\n",
        "drive.mount('/content/drive')"
      ]
    },
    {
      "cell_type": "code",
      "source": [
        "from sklearn.neighbors import KNeighborsClassifier\n",
        "from sklearn.model_selection import train_test_split\n",
        "\n",
        "import numpy as np"
      ],
      "metadata": {
        "id": "5RX09Rs3hF6w"
      },
      "execution_count": 8,
      "outputs": []
    },
    {
      "cell_type": "code",
      "source": [
        "data = np.loadtxt(\"/content/drive/MyDrive/ML_Lab/report/3/lab3_test.csv\", delimiter = ',')"
      ],
      "metadata": {
        "id": "Yu_wQIx6lWUH"
      },
      "execution_count": 9,
      "outputs": []
    },
    {
      "cell_type": "code",
      "source": [
        "# 전체 데이터 샘플의 개수\n",
        "data_num = len(data)\n",
        "print(data_num)\n",
        "\n",
        "# 클래스 레이블 파악\n",
        "arr = data[:, -1]\n",
        "unique_values = np.unique(arr)\n",
        "print(unique_values)"
      ],
      "metadata": {
        "colab": {
          "base_uri": "https://localhost:8080/"
        },
        "id": "jpFVdQHJm8oX",
        "outputId": "9d0ea420-f2a4-4662-a3b9-bbd193ebd8e4"
      },
      "execution_count": 14,
      "outputs": [
        {
          "output_type": "stream",
          "name": "stdout",
          "text": [
            "150\n",
            "[0. 1. 2.]\n"
          ]
        }
      ]
    },
    {
      "cell_type": "code",
      "source": [
        "trn, tst = train_test_split(data, test_size = 0.25, random_state = 0)\n",
        "\n",
        "x_train = trn[:, :-1]\n",
        "y_train = trn[:, -1]\n",
        "\n",
        "x_test = tst[:, :-1]\n",
        "y_test = tst[:, -1]"
      ],
      "metadata": {
        "id": "iwowK_lsiO16"
      },
      "execution_count": 11,
      "outputs": []
    },
    {
      "cell_type": "code",
      "source": [
        "knn = KNeighborsClassifier()\n",
        "\n",
        "print(\"== interval: 5 ==\")\n",
        "print(\"k: ACC\")\n",
        "\n",
        "for k in range(1, int(data_num/3), 5):\n",
        "  knn.n_neighbors = k\n",
        "  knn.fit(x_train, y_train)\n",
        "  y_pred = knn.predict(x_test)\n",
        "  print(str(k) + \": {:.3f}%\".format(np.mean(y_pred == y_test)))\n"
      ],
      "metadata": {
        "colab": {
          "base_uri": "https://localhost:8080/"
        },
        "id": "phcP7BDjoVHz",
        "outputId": "d46bea3a-b0e5-4da4-c162-660549f7cac8"
      },
      "execution_count": 12,
      "outputs": [
        {
          "output_type": "stream",
          "name": "stdout",
          "text": [
            "== interval: 5 ==\n",
            "k: ACC\n",
            "1: 0.974%\n",
            "6: 0.974%\n",
            "11: 0.974%\n",
            "16: 0.974%\n",
            "21: 0.974%\n",
            "26: 0.947%\n",
            "31: 0.947%\n",
            "36: 0.947%\n",
            "41: 0.895%\n",
            "46: 0.895%\n"
          ]
        }
      ]
    }
  ]
}