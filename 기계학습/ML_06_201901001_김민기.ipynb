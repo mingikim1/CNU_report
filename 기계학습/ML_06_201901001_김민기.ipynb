{
  "nbformat": 4,
  "nbformat_minor": 0,
  "metadata": {
    "colab": {
      "provenance": []
    },
    "kernelspec": {
      "name": "python3",
      "display_name": "Python 3"
    },
    "language_info": {
      "name": "python"
    }
  },
  "cells": [
    {
      "cell_type": "code",
      "execution_count": 110,
      "metadata": {
        "colab": {
          "base_uri": "https://localhost:8080/"
        },
        "id": "4FnGODpvsCm_",
        "outputId": "35ef2ed7-c836-456a-a02d-12f6d7e7f2d5"
      },
      "outputs": [
        {
          "output_type": "stream",
          "name": "stdout",
          "text": [
            "Drive already mounted at /content/drive; to attempt to forcibly remount, call drive.mount(\"/content/drive\", force_remount=True).\n"
          ]
        }
      ],
      "source": [
        "from google.colab import drive\n",
        "drive.mount('/content/drive')"
      ]
    },
    {
      "cell_type": "code",
      "source": [
        "import numpy as np\n",
        "\n",
        "data = np.loadtxt(\"/content/drive/MyDrive/ML_Lab/report/6/lab6_spambase.csv\", delimiter = ',')\n",
        "data"
      ],
      "metadata": {
        "colab": {
          "base_uri": "https://localhost:8080/"
        },
        "id": "QlzwAJnptdFN",
        "outputId": "4d5b76fb-8765-4fd6-e9d6-d4f7bf82aef8"
      },
      "execution_count": 111,
      "outputs": [
        {
          "output_type": "execute_result",
          "data": {
            "text/plain": [
              "array([[0.00e+00, 0.00e+00, 0.00e+00, ..., 1.80e+01, 1.82e+02, 0.00e+00],\n",
              "       [0.00e+00, 7.80e-01, 1.56e+00, ..., 9.00e+00, 3.90e+01, 0.00e+00],\n",
              "       [0.00e+00, 0.00e+00, 0.00e+00, ..., 4.70e+01, 1.16e+02, 0.00e+00],\n",
              "       ...,\n",
              "       [4.90e-01, 0.00e+00, 9.90e-01, ..., 8.00e+00, 9.40e+01, 1.00e+00],\n",
              "       [4.60e-01, 3.00e-01, 4.60e-01, ..., 1.93e+02, 3.04e+03, 1.00e+00],\n",
              "       [4.60e-01, 4.60e-01, 2.60e-01, ..., 4.00e+01, 8.98e+02, 1.00e+00]])"
            ]
          },
          "metadata": {},
          "execution_count": 111
        }
      ]
    },
    {
      "cell_type": "code",
      "source": [
        "from sklearn.model_selection import train_test_split\n",
        "\n",
        "trn, tst = train_test_split(data, test_size = 0.3, random_state = 0)\n",
        "\n",
        "x_train = trn[:, :-1]\n",
        "y_train = trn[:, -1]\n",
        "\n",
        "x_test = tst[:, :-1]\n",
        "y_test = tst[:, -1]"
      ],
      "metadata": {
        "id": "zK2jE_YNtxrX"
      },
      "execution_count": 112,
      "outputs": []
    },
    {
      "cell_type": "code",
      "source": [
        "from sklearn.tree import DecisionTreeClassifier\n",
        "from sklearn.metrics import f1_score\n",
        "\n",
        "clf = DecisionTreeClassifier(criterion = 'entropy', random_state = 0)\n",
        "clf.fit(x_train, y_train)\n",
        "y_pred = clf.predict(x_test)\n",
        "\n",
        "print(\"F1... \\t{: .3f}\".format(f1_score(y_pred, y_test)))\n",
        "print(\"ACC... \\t{: .3f}\".format(np.mean(y_pred == y_test)))"
      ],
      "metadata": {
        "colab": {
          "base_uri": "https://localhost:8080/"
        },
        "id": "_9bxr4HKuVkS",
        "outputId": "06521c8e-3cad-4f91-d67b-2a8d07836818"
      },
      "execution_count": 113,
      "outputs": [
        {
          "output_type": "stream",
          "name": "stdout",
          "text": [
            "F1... \t 0.839\n",
            "ACC... \t 0.967\n"
          ]
        }
      ]
    },
    {
      "cell_type": "code",
      "source": [
        "# label별로 개수 파악\n",
        "\n",
        "unique_classes, class_count = np.unique(y_train, return_counts = True)\n",
        "positive, negative = class_count"
      ],
      "metadata": {
        "id": "13HzdvnZvcrP"
      },
      "execution_count": 142,
      "outputs": []
    },
    {
      "cell_type": "code",
      "source": [
        "# OverSampling\n",
        "\n",
        "import random\n",
        "\n",
        "random.seed(42)\n",
        "\n",
        "x_train_positive = x_train[y_train == unique_classes[0]]\n",
        "x_train_negative = x_train[y_train == unique_classes[1]]\n",
        "\n",
        "\n",
        "if positive > negative :\n",
        "  for i in range(positive - negative) : # 같은 비율로 설정\n",
        "    random_int = random.randint(0, len(x_train_negative)-1)\n",
        "    random_sample = x_train_negative[random_int, :]\n",
        "    x_train_negative = np.concatenate((x_train_negative, random_sample.reshape(1, len(x_train_negative[0]))), axis = 0)\n",
        "\n",
        "else :\n",
        "  for i in range(negative - positive) :\n",
        "    random_int = random.randint(0, len(x_train_positive)-1)\n",
        "    random_sample = x_train_positive[random_int, :]\n",
        "    x_train_positive = np.concatenate((x_train_positive, random_sample.reshape(1, len(x_train_positive[0]))), axis = 0)"
      ],
      "metadata": {
        "id": "AlLFYSCkypCs"
      },
      "execution_count": 143,
      "outputs": []
    },
    {
      "cell_type": "code",
      "source": [
        "# x_train_positive, x_train_negative 합치기\n",
        "\n",
        "x_train_over = np.concatenate((x_train_positive, x_train_negative), axis = 0)\n",
        "y_train_over = np.array([unique_classes[0]] * len(x_train_positive) + [unique_classes[1]] * len(x_train_negative))\n"
      ],
      "metadata": {
        "id": "kJ2_aizk8JJP"
      },
      "execution_count": 150,
      "outputs": []
    },
    {
      "cell_type": "code",
      "source": [
        "clf_over = DecisionTreeClassifier(criterion = 'entropy', random_state = 0)\n",
        "clf_over.fit(x_train_over, y_train_over)\n",
        "y_pred_over = clf_over.predict(x_test)\n",
        "\n",
        "print(\"F1... \\t{: .3f}\".format(f1_score(y_pred_over, y_test)))\n",
        "print(\"ACC... \\t{: .3f}\".format(np.mean(y_pred_over == y_test)))"
      ],
      "metadata": {
        "colab": {
          "base_uri": "https://localhost:8080/"
        },
        "id": "dECkgjCAL7qg",
        "outputId": "1548775f-3dd2-4627-aa3d-5a79557e6166"
      },
      "execution_count": 155,
      "outputs": [
        {
          "output_type": "stream",
          "name": "stdout",
          "text": [
            "F1... \t 0.743\n",
            "ACC... \t 0.940\n"
          ]
        }
      ]
    },
    {
      "cell_type": "code",
      "source": [
        "# UnderSampling\n",
        "\n",
        "import random\n",
        "\n",
        "random.seed(42)\n",
        "\n",
        "x_train_positive = x_train[y_train == unique_classes[0]]\n",
        "x_train_negative = x_train[y_train == unique_classes[1]]\n",
        "\n",
        "\n",
        "if positive > negative :\n",
        "  for i in range(positive - negative) : # 같은 비율로 설정\n",
        "    random_int = random.randint(0, len(x_train_positive)-1)\n",
        "    x_train_positive = np.delete(x_train_positive, random_int, axis = 0)\n",
        "\n",
        "else :\n",
        "  for i in range(negative - positive) :\n",
        "    random_int = random.randint(0, len(x_train_negative)-1)\n",
        "    x_train_negative = np.delete(x_train_negative, random_int, axis = 0)\n"
      ],
      "metadata": {
        "id": "1tjHSQ36TadB"
      },
      "execution_count": 162,
      "outputs": []
    },
    {
      "cell_type": "code",
      "source": [
        "# x_train_positive, x_train_negative 합치기\n",
        "\n",
        "x_train_under = np.concatenate((x_train_positive, x_train_negative), axis = 0)\n",
        "y_train_under = np.array([unique_classes[0]] * len(x_train_positive) + [unique_classes[1]] * len(x_train_negative))"
      ],
      "metadata": {
        "id": "rjUlLTd9ZJcV"
      },
      "execution_count": 164,
      "outputs": []
    },
    {
      "cell_type": "code",
      "source": [
        "clf_under = DecisionTreeClassifier(criterion = 'entropy', random_state = 0)\n",
        "clf_under.fit(x_train_under, y_train_under)\n",
        "y_pred_under = clf_under.predict(x_test)\n",
        "\n",
        "print(\"F1... \\t{: .3f}\".format(f1_score(y_pred_under, y_test)))\n",
        "print(\"ACC... \\t{: .3f}\".format(np.mean(y_pred_under == y_test)))"
      ],
      "metadata": {
        "colab": {
          "base_uri": "https://localhost:8080/"
        },
        "id": "IQT-qTzgZapZ",
        "outputId": "9ef71813-d40f-416e-c886-b5bdcfa85f3c"
      },
      "execution_count": 167,
      "outputs": [
        {
          "output_type": "stream",
          "name": "stdout",
          "text": [
            "F1... \t 0.536\n",
            "ACC... \t 0.827\n"
          ]
        }
      ]
    }
  ]
}