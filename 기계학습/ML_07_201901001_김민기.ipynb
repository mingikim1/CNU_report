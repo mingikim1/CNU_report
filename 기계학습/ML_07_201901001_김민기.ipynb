{
  "nbformat": 4,
  "nbformat_minor": 0,
  "metadata": {
    "colab": {
      "provenance": []
    },
    "kernelspec": {
      "name": "python3",
      "display_name": "Python 3"
    },
    "language_info": {
      "name": "python"
    }
  },
  "cells": [
    {
      "cell_type": "code",
      "execution_count": 113,
      "metadata": {
        "id": "U5fJa_6s0qsj"
      },
      "outputs": [],
      "source": [
        "from sklearn.metrics import mean_squared_error\n",
        "from sklearn.linear_model import LinearRegression"
      ]
    },
    {
      "cell_type": "code",
      "source": [
        "import pandas as pd\n",
        "import numpy as np\n",
        "import matplotlib.pyplot as plt"
      ],
      "metadata": {
        "id": "WVRYB-oJ10OA"
      },
      "execution_count": 114,
      "outputs": []
    },
    {
      "cell_type": "code",
      "source": [
        "from google.colab import drive\n",
        "drive.mount('/content/drive')"
      ],
      "metadata": {
        "colab": {
          "base_uri": "https://localhost:8080/"
        },
        "id": "8m8IHd8_1-RA",
        "outputId": "3bf8b3f2-996c-44c5-9d54-dfba10cc3d8d"
      },
      "execution_count": 115,
      "outputs": [
        {
          "output_type": "stream",
          "name": "stdout",
          "text": [
            "Drive already mounted at /content/drive; to attempt to forcibly remount, call drive.mount(\"/content/drive\", force_remount=True).\n"
          ]
        }
      ]
    },
    {
      "cell_type": "code",
      "source": [
        "trn = pd.read_csv(\"/content/drive/MyDrive/ML_Lab/report/7/lab7_train.csv\")\n",
        "tst = pd.read_csv(\"/content/drive/MyDrive/ML_Lab/report/7/lab7_test.csv\")"
      ],
      "metadata": {
        "id": "fkKGPNom3Frv"
      },
      "execution_count": 116,
      "outputs": []
    },
    {
      "cell_type": "code",
      "source": [
        "x = trn.iloc[:, :-1].to_numpy()\n",
        "y = trn.iloc[:, -1].to_numpy()"
      ],
      "metadata": {
        "id": "joyMyZCe4Zcf"
      },
      "execution_count": 117,
      "outputs": []
    },
    {
      "cell_type": "code",
      "source": [
        "lin_model = LinearRegression()\n",
        "lin_model.fit(x, y)\n",
        "y_hat = lin_model.predict(x)\n",
        "\n",
        "print(f\"MSE LOSS: {mean_squared_error(y, y_hat)}\")"
      ],
      "metadata": {
        "colab": {
          "base_uri": "https://localhost:8080/"
        },
        "id": "Hq95s-ec5KPh",
        "outputId": "c1400b16-d3bf-4750-a3f8-a7e51423a6ce"
      },
      "execution_count": 118,
      "outputs": [
        {
          "output_type": "stream",
          "name": "stdout",
          "text": [
            "MSE LOSS: 49.008746401063036\n"
          ]
        }
      ]
    },
    {
      "cell_type": "code",
      "source": [
        "y"
      ],
      "metadata": {
        "colab": {
          "base_uri": "https://localhost:8080/"
        },
        "id": "TiEhrTTTDm5m",
        "outputId": "fd03d22d-3533-4151-aaf1-cd46d07b628a"
      },
      "execution_count": 119,
      "outputs": [
        {
          "output_type": "execute_result",
          "data": {
            "text/plain": [
              "array([61.1, 75. , 84. , ..., 71.7, 62. , 73.1])"
            ]
          },
          "metadata": {},
          "execution_count": 119
        }
      ]
    },
    {
      "cell_type": "code",
      "source": [
        "x"
      ],
      "metadata": {
        "colab": {
          "base_uri": "https://localhost:8080/"
        },
        "id": "7KV8fTzm8DQd",
        "outputId": "6d3f2230-c4b7-42ed-8021-cd7b1863b26f"
      },
      "execution_count": 120,
      "outputs": [
        {
          "output_type": "execute_result",
          "data": {
            "text/plain": [
              "array([[0.26813187, 0.00801359, 0.04797048, 0.04270463],\n",
              "       [0.4       , 0.05664393, 0.06642066, 0.06049822],\n",
              "       [0.48644689, 0.01840628, 0.03690037, 0.03558719],\n",
              "       ...,\n",
              "       [0.20805861, 0.01978043, 0.33210332, 0.32740214],\n",
              "       [0.18681319, 0.0026487 , 0.33579336, 0.32384342],\n",
              "       [0.41172161, 0.06361868, 0.13653137, 0.1316726 ]])"
            ]
          },
          "metadata": {},
          "execution_count": 120
        }
      ]
    },
    {
      "cell_type": "code",
      "source": [
        "def h(x, param) :\n",
        "  return np.dot(x, param[:-1]) + param[-1]"
      ],
      "metadata": {
        "id": "v0vbz5dL5vqv"
      },
      "execution_count": 121,
      "outputs": []
    },
    {
      "cell_type": "code",
      "source": [
        "learning_iteration = 3000\n",
        "learning_rate = 0.1\n",
        "\n",
        "[m, n] = x.shape\n",
        "\n",
        "# 초기값 설정\n",
        "param = np.array([1.0] * n + [1.0], dtype=np.float64)\n",
        "\n",
        "for i in range(learning_iteration) :\n",
        "  error = h(x, param) - y\n",
        "\n",
        "  # 행 기준으로 합\n",
        "  x_row_sum = np.sum(x, axis = 1)\n",
        "\n",
        "  param[:-1] -= learning_rate * (error * x_row_sum).sum() / len(y)\n",
        "  param[-1] -= learning_rate * error.sum() / len(y)"
      ],
      "metadata": {
        "id": "fu8rEikS5xoC"
      },
      "execution_count": 163,
      "outputs": []
    },
    {
      "cell_type": "code",
      "source": [
        "mse = ((h(x, param) - y)**2).sum() / len(y)"
      ],
      "metadata": {
        "id": "86CNqRyXI5Rk"
      },
      "execution_count": 165,
      "outputs": []
    },
    {
      "cell_type": "code",
      "source": [
        "print(f\"MSE LOSS: {mse}\")"
      ],
      "metadata": {
        "colab": {
          "base_uri": "https://localhost:8080/"
        },
        "id": "TpXC6c7oMaDz",
        "outputId": "f08c2c7e-7a29-4e62-ae00-06e1624eb7e2"
      },
      "execution_count": 166,
      "outputs": [
        {
          "output_type": "stream",
          "name": "stdout",
          "text": [
            "MSE LOSS: 68.85762748468416\n"
          ]
        }
      ]
    }
  ]
}