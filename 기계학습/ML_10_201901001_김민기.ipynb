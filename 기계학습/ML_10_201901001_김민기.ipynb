{
  "nbformat": 4,
  "nbformat_minor": 0,
  "metadata": {
    "colab": {
      "provenance": [],
      "gpuType": "T4"
    },
    "kernelspec": {
      "name": "python3",
      "display_name": "Python 3"
    },
    "language_info": {
      "name": "python"
    },
    "accelerator": "GPU"
  },
  "cells": [
    {
      "cell_type": "code",
      "execution_count": 1,
      "metadata": {
        "id": "jBIkxAbz5FE0"
      },
      "outputs": [],
      "source": [
        "from tensorflow import keras\n",
        "\n",
        "fmnist = keras.datasets.fashion_mnist\n",
        "\n",
        "(x_train, y_train) , (x_test, y_test) = fmnist.load_data()"
      ]
    },
    {
      "cell_type": "code",
      "source": [
        "model1 = keras.models.Sequential( [\n",
        "    keras.layers.Flatten(input_shape = (28, 28)),\n",
        "    keras.layers.Dense(1024, activation = 'relu'),\n",
        "    keras.layers.Dense(512, activation = 'relu'),\n",
        "    keras.layers.Dense(64, activation = 'relu'),\n",
        "    keras.layers.Dense(10, activation = 'softmax'),\n",
        "])\n",
        "model1.compile(optimizer = 'adam', loss = 'sparse_categorical_crossentropy', metrics = ['accuracy'])\n",
        "hist1 = model1.fit(x_train, y_train, epochs = 10, validation_data = (x_test, y_test))"
      ],
      "metadata": {
        "colab": {
          "base_uri": "https://localhost:8080/"
        },
        "id": "ogS1Q6QA_G4p",
        "outputId": "bdf42fe2-0505-4667-bf3f-8cabbab69849"
      },
      "execution_count": 2,
      "outputs": [
        {
          "output_type": "stream",
          "name": "stdout",
          "text": [
            "Epoch 1/10\n",
            "1875/1875 [==============================] - 18s 7ms/step - loss: 2.1121 - accuracy: 0.5060 - val_loss: 1.0556 - val_accuracy: 0.5900\n",
            "Epoch 2/10\n",
            "1875/1875 [==============================] - 7s 4ms/step - loss: 0.8623 - accuracy: 0.6472 - val_loss: 0.7850 - val_accuracy: 0.7213\n",
            "Epoch 3/10\n",
            "1875/1875 [==============================] - 7s 4ms/step - loss: 0.7146 - accuracy: 0.7260 - val_loss: 0.5805 - val_accuracy: 0.8050\n",
            "Epoch 4/10\n",
            "1875/1875 [==============================] - 7s 4ms/step - loss: 0.5138 - accuracy: 0.8249 - val_loss: 0.5134 - val_accuracy: 0.8225\n",
            "Epoch 5/10\n",
            "1875/1875 [==============================] - 7s 4ms/step - loss: 0.4446 - accuracy: 0.8480 - val_loss: 0.4648 - val_accuracy: 0.8437\n",
            "Epoch 6/10\n",
            "1875/1875 [==============================] - 8s 4ms/step - loss: 0.4042 - accuracy: 0.8593 - val_loss: 0.4512 - val_accuracy: 0.8522\n",
            "Epoch 7/10\n",
            "1875/1875 [==============================] - 7s 4ms/step - loss: 0.3765 - accuracy: 0.8684 - val_loss: 0.4509 - val_accuracy: 0.8414\n",
            "Epoch 8/10\n",
            "1875/1875 [==============================] - 8s 4ms/step - loss: 0.3571 - accuracy: 0.8745 - val_loss: 0.4840 - val_accuracy: 0.8398\n",
            "Epoch 9/10\n",
            "1875/1875 [==============================] - 7s 4ms/step - loss: 0.3429 - accuracy: 0.8797 - val_loss: 0.4114 - val_accuracy: 0.8645\n",
            "Epoch 10/10\n",
            "1875/1875 [==============================] - 8s 4ms/step - loss: 0.3374 - accuracy: 0.8817 - val_loss: 0.4434 - val_accuracy: 0.8579\n"
          ]
        }
      ]
    },
    {
      "cell_type": "code",
      "source": [
        "df1 = hist1.history\n",
        "print(\"train_acc:\\n{}\".format(df1['accuracy']))\n",
        "print(\"\\ntest_acc:\\n{}\".format(df1['val_accuracy']))\n",
        "\n",
        "hist1_Acc = df1['accuracy']\n",
        "hist1_valAcc = df1['val_accuracy']"
      ],
      "metadata": {
        "colab": {
          "base_uri": "https://localhost:8080/"
        },
        "id": "EWdcZ6xi_SxR",
        "outputId": "3256ba31-9f11-4383-f691-a6dbe447e5c6"
      },
      "execution_count": 3,
      "outputs": [
        {
          "output_type": "stream",
          "name": "stdout",
          "text": [
            "train_acc:\n",
            "[0.5059666633605957, 0.647183358669281, 0.7259666919708252, 0.8249333500862122, 0.8480499982833862, 0.8593000173568726, 0.8683666586875916, 0.8745499849319458, 0.8797000050544739, 0.8817166686058044]\n",
            "\n",
            "test_acc:\n",
            "[0.5899999737739563, 0.7213000059127808, 0.8050000071525574, 0.8224999904632568, 0.8436999917030334, 0.8521999716758728, 0.8414000272750854, 0.8398000001907349, 0.8644999861717224, 0.8579000234603882]\n"
          ]
        }
      ]
    },
    {
      "cell_type": "code",
      "source": [
        "x_train, x_test = x_train/255, x_test/255"
      ],
      "metadata": {
        "id": "h75JVpiFCssk"
      },
      "execution_count": 4,
      "outputs": []
    },
    {
      "cell_type": "code",
      "source": [
        "model2 = keras.models.Sequential( [\n",
        "    keras.layers.Flatten(input_shape = (28, 28)),\n",
        "    keras.layers.Dense(1024, activation = 'relu'),\n",
        "    keras.layers.Dense(512, activation = 'relu'),\n",
        "    keras.layers.Dense(64, activation = 'relu'),\n",
        "    keras.layers.Dense(10, activation = 'softmax'),\n",
        "])\n",
        "model2.compile(optimizer = 'adam', loss = 'sparse_categorical_crossentropy', metrics = ['accuracy'])\n",
        "hist2 = model2.fit(x_train, y_train, epochs = 10, validation_data = (x_test, y_test))"
      ],
      "metadata": {
        "colab": {
          "base_uri": "https://localhost:8080/"
        },
        "id": "goA1VMZ3CYx5",
        "outputId": "383844fc-c847-4cab-eb0e-4c88ac71bb42"
      },
      "execution_count": 5,
      "outputs": [
        {
          "output_type": "stream",
          "name": "stdout",
          "text": [
            "Epoch 1/10\n",
            "1875/1875 [==============================] - 8s 4ms/step - loss: 0.4773 - accuracy: 0.8267 - val_loss: 0.4032 - val_accuracy: 0.8504\n",
            "Epoch 2/10\n",
            "1875/1875 [==============================] - 7s 4ms/step - loss: 0.3608 - accuracy: 0.8682 - val_loss: 0.3909 - val_accuracy: 0.8565\n",
            "Epoch 3/10\n",
            "1875/1875 [==============================] - 9s 5ms/step - loss: 0.3245 - accuracy: 0.8785 - val_loss: 0.3601 - val_accuracy: 0.8645\n",
            "Epoch 4/10\n",
            "1875/1875 [==============================] - 7s 4ms/step - loss: 0.2989 - accuracy: 0.8895 - val_loss: 0.3566 - val_accuracy: 0.8764\n",
            "Epoch 5/10\n",
            "1875/1875 [==============================] - 8s 4ms/step - loss: 0.2849 - accuracy: 0.8929 - val_loss: 0.3470 - val_accuracy: 0.8751\n",
            "Epoch 6/10\n",
            "1875/1875 [==============================] - 7s 4ms/step - loss: 0.2676 - accuracy: 0.9001 - val_loss: 0.3489 - val_accuracy: 0.8756\n",
            "Epoch 7/10\n",
            "1875/1875 [==============================] - 8s 4ms/step - loss: 0.2546 - accuracy: 0.9037 - val_loss: 0.3434 - val_accuracy: 0.8825\n",
            "Epoch 8/10\n",
            "1875/1875 [==============================] - 7s 4ms/step - loss: 0.2434 - accuracy: 0.9084 - val_loss: 0.3195 - val_accuracy: 0.8875\n",
            "Epoch 9/10\n",
            "1875/1875 [==============================] - 8s 4ms/step - loss: 0.2335 - accuracy: 0.9120 - val_loss: 0.3348 - val_accuracy: 0.8826\n",
            "Epoch 10/10\n",
            "1875/1875 [==============================] - 7s 4ms/step - loss: 0.2243 - accuracy: 0.9151 - val_loss: 0.3604 - val_accuracy: 0.8844\n"
          ]
        }
      ]
    },
    {
      "cell_type": "code",
      "source": [
        "df2 = hist2.history\n",
        "print(\"train_acc:\\n{}\".format(df2['accuracy']))\n",
        "print(\"\\ntest_acc:\\n{}\".format(df2['val_accuracy']))\n",
        "\n",
        "hist2_Acc = df2['accuracy']\n",
        "hist2_valAcc = df2['val_accuracy']"
      ],
      "metadata": {
        "colab": {
          "base_uri": "https://localhost:8080/"
        },
        "id": "kjkE9wNLD5HC",
        "outputId": "f988012e-aa38-4267-876a-2a8927a2a1df"
      },
      "execution_count": 6,
      "outputs": [
        {
          "output_type": "stream",
          "name": "stdout",
          "text": [
            "train_acc:\n",
            "[0.8266833424568176, 0.8682000041007996, 0.878516674041748, 0.889549970626831, 0.8928833603858948, 0.9000833630561829, 0.9037166833877563, 0.9084333181381226, 0.9119666814804077, 0.9150833487510681]\n",
            "\n",
            "test_acc:\n",
            "[0.8503999710083008, 0.8565000295639038, 0.8644999861717224, 0.8763999938964844, 0.8751000165939331, 0.8755999803543091, 0.8824999928474426, 0.887499988079071, 0.8826000094413757, 0.8844000101089478]\n"
          ]
        }
      ]
    },
    {
      "cell_type": "code",
      "source": [
        "model3 = keras.models.Sequential( [\n",
        "    keras.layers.Flatten(input_shape = (28, 28)),\n",
        "    keras.layers.Dense(1024, activation = 'relu'),\n",
        "\n",
        "    keras.layers.Dense(2000, activation = 'relu'),\n",
        "\n",
        "    keras.layers.Dense(512, activation = 'relu'),\n",
        "    keras.layers.Dense(64, activation = 'relu'),\n",
        "\n",
        "    keras.layers.Dense(251, activation = 'relu'),\n",
        "\n",
        "    keras.layers.Dense(10, activation = 'softmax'),\n",
        "])\n",
        "model3.compile(optimizer = 'adam', loss = 'sparse_categorical_crossentropy', metrics = ['accuracy'])\n",
        "hist3 = model3.fit(x_train, y_train, epochs = 10, validation_data = (x_test, y_test))"
      ],
      "metadata": {
        "colab": {
          "base_uri": "https://localhost:8080/"
        },
        "id": "r7MdwnkDEr1a",
        "outputId": "731929ac-5034-45f4-db9f-7f6230604bce"
      },
      "execution_count": 7,
      "outputs": [
        {
          "output_type": "stream",
          "name": "stdout",
          "text": [
            "Epoch 1/10\n",
            "1875/1875 [==============================] - 12s 5ms/step - loss: 0.5199 - accuracy: 0.8129 - val_loss: 0.4300 - val_accuracy: 0.8492\n",
            "Epoch 2/10\n",
            "1875/1875 [==============================] - 10s 5ms/step - loss: 0.3867 - accuracy: 0.8597 - val_loss: 0.4040 - val_accuracy: 0.8582\n",
            "Epoch 3/10\n",
            "1875/1875 [==============================] - 9s 5ms/step - loss: 0.3449 - accuracy: 0.8742 - val_loss: 0.3898 - val_accuracy: 0.8643\n",
            "Epoch 4/10\n",
            "1875/1875 [==============================] - 10s 5ms/step - loss: 0.3224 - accuracy: 0.8822 - val_loss: 0.3717 - val_accuracy: 0.8688\n",
            "Epoch 5/10\n",
            "1875/1875 [==============================] - 9s 5ms/step - loss: 0.3034 - accuracy: 0.8894 - val_loss: 0.3809 - val_accuracy: 0.8691\n",
            "Epoch 6/10\n",
            "1875/1875 [==============================] - 9s 5ms/step - loss: 0.2842 - accuracy: 0.8957 - val_loss: 0.3576 - val_accuracy: 0.8750\n",
            "Epoch 7/10\n",
            "1875/1875 [==============================] - 10s 5ms/step - loss: 0.2750 - accuracy: 0.8977 - val_loss: 0.3621 - val_accuracy: 0.8780\n",
            "Epoch 8/10\n",
            "1875/1875 [==============================] - 10s 5ms/step - loss: 0.2658 - accuracy: 0.9011 - val_loss: 0.3279 - val_accuracy: 0.8828\n",
            "Epoch 9/10\n",
            "1875/1875 [==============================] - 9s 5ms/step - loss: 0.2573 - accuracy: 0.9047 - val_loss: 0.3675 - val_accuracy: 0.8795\n",
            "Epoch 10/10\n",
            "1875/1875 [==============================] - 9s 5ms/step - loss: 0.2473 - accuracy: 0.9085 - val_loss: 0.3492 - val_accuracy: 0.8806\n"
          ]
        }
      ]
    },
    {
      "cell_type": "code",
      "source": [
        "df3 = hist3.history\n",
        "print(\"train_acc:\\n{}\".format(df3['accuracy']))\n",
        "print(\"\\ntest_acc:\\n{}\".format(df3['val_accuracy']))\n",
        "\n",
        "hist3_Acc = df3['accuracy']\n",
        "hist3_valAcc = df3['val_accuracy']"
      ],
      "metadata": {
        "colab": {
          "base_uri": "https://localhost:8080/"
        },
        "id": "rKisukoBFoOM",
        "outputId": "6f34ae72-820f-4ce3-b469-ddc3702f9a1e"
      },
      "execution_count": 8,
      "outputs": [
        {
          "output_type": "stream",
          "name": "stdout",
          "text": [
            "train_acc:\n",
            "[0.8129166960716248, 0.8597166538238525, 0.8742333054542542, 0.8822333216667175, 0.8894333243370056, 0.8956500291824341, 0.8976500034332275, 0.9010666608810425, 0.904699981212616, 0.9085166454315186]\n",
            "\n",
            "test_acc:\n",
            "[0.8492000102996826, 0.8582000136375427, 0.864300012588501, 0.8687999844551086, 0.8690999746322632, 0.875, 0.878000020980835, 0.8827999830245972, 0.8794999718666077, 0.8805999755859375]\n"
          ]
        }
      ]
    },
    {
      "cell_type": "code",
      "source": [
        "import matplotlib.pyplot as plt\n",
        "import numpy as np\n",
        "\n",
        "plt.figure(figsize = (12, 4))\n",
        "plt.subplot(1, 2, 1)\n",
        "plt.plot(np.arange(len(hist1_Acc)), hist1_Acc, color = 'r', label = 'base')\n",
        "plt.plot(np.arange(len(hist2_Acc)), hist2_Acc, color = 'b', label = 'base + norm')\n",
        "plt.plot(np.arange(len(hist3_Acc)), hist3_Acc, color = 'g', label = 'node + norm')\n",
        "plt.title(\"accuracy\")\n",
        "plt.xlabel(\"Epoch\")\n",
        "plt.ylabel(\"accuracy\")\n",
        "plt.legend()\n",
        "\n",
        "plt.subplot(1, 2, 2)\n",
        "plt.plot(np.arange(len(hist1_valAcc)), hist1_valAcc, color = 'r', label = 'base')\n",
        "plt.plot(np.arange(len(hist2_valAcc)), hist2_valAcc, color = 'b', label = 'base + norm')\n",
        "plt.plot(np.arange(len(hist3_valAcc)), hist3_valAcc, color = 'g', label = 'node + norm')\n",
        "plt.title(\"accuracy\")\n",
        "plt.xlabel(\"Epoch\")\n",
        "plt.ylabel(\"accuracy\")\n",
        "plt.legend()\n",
        "plt.show()"
      ],
      "metadata": {
        "colab": {
          "base_uri": "https://localhost:8080/",
          "height": 410
        },
        "id": "JLzdbV3OFyej",
        "outputId": "fbd108a0-b21c-4c06-fbaf-5c181b0e03e6"
      },
      "execution_count": 9,
      "outputs": [
        {
          "output_type": "display_data",
          "data": {
            "text/plain": [
              "<Figure size 1200x400 with 2 Axes>"
            ],
            "image/png": "[encoded data removed]"
          },
          "metadata": {}
        }
      ]
    }
  ]
}