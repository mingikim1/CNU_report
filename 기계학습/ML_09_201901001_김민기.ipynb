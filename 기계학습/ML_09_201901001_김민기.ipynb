{
  "nbformat": 4,
  "nbformat_minor": 0,
  "metadata": {
    "colab": {
      "provenance": []
    },
    "kernelspec": {
      "name": "python3",
      "display_name": "Python 3"
    },
    "language_info": {
      "name": "python"
    }
  },
  "cells": [
    {
      "cell_type": "code",
      "source": [
        "import numpy as np\n",
        "import pandas as pd\n",
        "import matplotlib.pyplot as plt"
      ],
      "metadata": {
        "id": "lsSPPwcG5_Rf"
      },
      "execution_count": 1,
      "outputs": []
    },
    {
      "cell_type": "code",
      "source": [
        "X = np.array([[0, 0],\n",
        "              [1, 1],\n",
        "              [1, 0],\n",
        "              [0, 1]])\n",
        "y = np.array([0, 0, 1, 1])"
      ],
      "metadata": {
        "id": "ybGVuqng6Hk8"
      },
      "execution_count": 2,
      "outputs": []
    },
    {
      "cell_type": "code",
      "source": [
        "from sklearn.neural_network import MLPClassifier\n",
        "\n",
        "model0 = MLPClassifier(solver = 'lbfgs',\n",
        "                       max_iter = 100,\n",
        "                       hidden_layer_sizes= [],\n",
        "                       random_state = 0)\n",
        "\n",
        "model0.fit(X, y)\n",
        "\n",
        "print(\"weights: {}\\nBias: {}\".format(model0.coefs_, model0.intercepts_))"
      ],
      "metadata": {
        "colab": {
          "base_uri": "https://localhost:8080/"
        },
        "id": "n2odO2j67I5z",
        "outputId": "0fcd6789-d79a-4f22-a607-0993546e6952"
      },
      "execution_count": 3,
      "outputs": [
        {
          "output_type": "stream",
          "name": "stdout",
          "text": [
            "weights: [array([[8.06061982e-06],\n",
            "       [3.22003593e-06]])]\n",
            "Bias: [array([1.64433339e-05])]\n"
          ]
        }
      ]
    },
    {
      "cell_type": "code",
      "source": [
        "print(\"y_hat: {}\".format(model0.predict(X)))"
      ],
      "metadata": {
        "colab": {
          "base_uri": "https://localhost:8080/"
        },
        "id": "-j6oVUIk-q8B",
        "outputId": "dd681d3c-5bf5-447f-9972-263c9f781de2"
      },
      "execution_count": 4,
      "outputs": [
        {
          "output_type": "stream",
          "name": "stdout",
          "text": [
            "y_hat: [1 1 1 1]\n"
          ]
        }
      ]
    },
    {
      "cell_type": "code",
      "source": [
        "model1 = MLPClassifier(activation = 'logistic',\n",
        "                       solver = 'lbfgs',\n",
        "                       max_iter = 100,\n",
        "                       hidden_layer_sizes = (2,),\n",
        "                       random_state = 0)\n",
        "\n",
        "model1.fit(X, y)\n",
        "y_hat1 = model1.predict(X)\n",
        "\n",
        "weights = model1.coefs_\n",
        "bias = model1.intercepts_\n",
        "\n",
        "print(\"weights: {}\\nBias: {}\".format(weights, bias))"
      ],
      "metadata": {
        "colab": {
          "base_uri": "https://localhost:8080/"
        },
        "id": "44x_5q4--6Gb",
        "outputId": "be7498a6-f74f-4c6d-e06b-045905bee545"
      },
      "execution_count": 5,
      "outputs": [
        {
          "output_type": "stream",
          "name": "stdout",
          "text": [
            "weights: [array([[-6.77800873,  6.41517868],\n",
            "       [-6.85166173,  6.30993013]]), array([[14.09816298],\n",
            "       [14.09027917]])]\n",
            "Bias: [array([10.7517662 , -2.81729815]), array([-21.20012772])]\n"
          ]
        }
      ]
    },
    {
      "cell_type": "code",
      "source": [
        "def sigmoid(X) :\n",
        "  result = 1 / (1 + np.exp(-X))\n",
        "  return result"
      ],
      "metadata": {
        "id": "PXT-uhtC__iF"
      },
      "execution_count": 6,
      "outputs": []
    },
    {
      "cell_type": "code",
      "source": [
        "b11 = weights[0][0][0] * X[:, 0] +  weights[0][1][0] * X[:, 1] + bias[0][0]\n",
        "\n",
        "b11_act = sigmoid(b11)\n",
        "\n",
        "b12 = weights[0][0][1] * X[:, 0] + weights[0][1][1] * X[:, 1] + bias[0][1]\n",
        "\n",
        "b12_act = sigmoid(b12)\n",
        "\n",
        "print(\"b11_act: {}\\nb12_act: {}\".format(b11_act, b12_act))"
      ],
      "metadata": {
        "colab": {
          "base_uri": "https://localhost:8080/"
        },
        "id": "OkTpDsLxALKB",
        "outputId": "842ea186-a87b-4308-8916-c2e8383eb955"
      },
      "execution_count": 7,
      "outputs": [
        {
          "output_type": "stream",
          "name": "stdout",
          "text": [
            "b11_act: [0.99997859 0.05325671 0.98154436 0.98016173]\n",
            "b12_act: [0.05639654 0.99995022 0.97334808 0.9704774 ]\n"
          ]
        }
      ]
    },
    {
      "cell_type": "code",
      "source": [
        "y_hat1"
      ],
      "metadata": {
        "colab": {
          "base_uri": "https://localhost:8080/"
        },
        "id": "SvfFczGnFB07",
        "outputId": "0e4ec89c-8963-4e63-cb93-d4636894670b"
      },
      "execution_count": 8,
      "outputs": [
        {
          "output_type": "execute_result",
          "data": {
            "text/plain": [
              "array([0, 0, 1, 1])"
            ]
          },
          "metadata": {},
          "execution_count": 8
        }
      ]
    },
    {
      "cell_type": "code",
      "source": [
        "plt.figure(figsize=(12, 4))\n",
        "plt.subplot(1, 2, 1)\n",
        "plt.scatter(X[:, 0], X[:, 1], c=y, cmap=plt.cm.Spectral)\n",
        "plt.title('Input Data')\n",
        "plt.xlabel('x1')\n",
        "plt.ylabel('x2')\n",
        "\n",
        "plt.subplot(1, 2, 2)\n",
        "plt.scatter(b11_act, b12_act, c=y, cmap=plt.cm.Spectral)\n",
        "plt.title('Hidden Layer')\n",
        "plt.xlabel('b11')\n",
        "plt.ylabel('b12')\n",
        "\n",
        "plt.show()"
      ],
      "metadata": {
        "colab": {
          "base_uri": "https://localhost:8080/",
          "height": 410
        },
        "id": "SfE0AEM_jKrF",
        "outputId": "d8ba4b9c-7e78-43be-a039-bdf3e29dc29a"
      },
      "execution_count": 12,
      "outputs": [
        {
          "output_type": "display_data",
          "data": {
            "text/plain": [
              "<Figure size 1200x400 with 2 Axes>"
            ],
            "image/png": "[encoded data removed]"
          },
          "metadata": {}
        }
      ]
    }
  ]
}