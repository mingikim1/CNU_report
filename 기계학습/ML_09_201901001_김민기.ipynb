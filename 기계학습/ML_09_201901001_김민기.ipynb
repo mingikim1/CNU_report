{
  "nbformat": 4,
  "nbformat_minor": 0,
  "metadata": {
    "colab": {
      "provenance": []
    },
    "kernelspec": {
      "name": "python3",
      "display_name": "Python 3"
    },
    "language_info": {
      "name": "python"
    }
  },
  "cells": [
    {
      "cell_type": "code",
      "execution_count": 1,
      "metadata": {
        "id": "eJ7UdEwW5YJe",
        "colab": {
          "base_uri": "https://localhost:8080/"
        },
        "outputId": "c2f1453d-c672-4966-ee54-500f773667f0"
      },
      "outputs": [
        {
          "output_type": "stream",
          "name": "stdout",
          "text": [
            "Mounted at /content/drive\n"
          ]
        }
      ],
      "source": [
        "from google.colab import drive\n",
        "drive.mount('/content/drive')"
      ]
    },
    {
      "cell_type": "code",
      "source": [
        "import numpy as np\n",
        "import pandas as pd\n",
        "import matplotlib.pyplot as plt"
      ],
      "metadata": {
        "id": "lsSPPwcG5_Rf"
      },
      "execution_count": 2,
      "outputs": []
    },
    {
      "cell_type": "code",
      "source": [
        "X = np.array([[0, 0],\n",
        "              [1, 1],\n",
        "              [1, 0],\n",
        "              [0, 1]])\n",
        "y = np.array([0, 0, 1, 1])"
      ],
      "metadata": {
        "id": "ybGVuqng6Hk8"
      },
      "execution_count": 3,
      "outputs": []
    },
    {
      "cell_type": "code",
      "source": [
        "from sklearn.neural_network import MLPClassifier\n",
        "\n",
        "model0 = MLPClassifier(activation = 'logistic',\n",
        "                       solver = 'lbfgs',\n",
        "                       max_iter = 100,\n",
        "                       hidden_layer_sizes= [],\n",
        "                       random_state = 0)\n",
        "\n",
        "model0.fit(X, y)\n",
        "y_hat0 = model0.predict(X)\n",
        "\n",
        "print(\"weights: {}\\nBias: {}\".format(model0.coefs_, model0.intercepts_))"
      ],
      "metadata": {
        "colab": {
          "base_uri": "https://localhost:8080/"
        },
        "id": "n2odO2j67I5z",
        "outputId": "b28d513d-872f-4172-c18c-926c13145f03"
      },
      "execution_count": 4,
      "outputs": [
        {
          "output_type": "stream",
          "name": "stdout",
          "text": [
            "weights: [array([[ 1.64913163e-04],\n",
            "       [-3.40235862e-05]])]\n",
            "Bias: [array([1.04251981e-05])]\n"
          ]
        }
      ]
    },
    {
      "cell_type": "code",
      "source": [
        "y_hat0"
      ],
      "metadata": {
        "colab": {
          "base_uri": "https://localhost:8080/"
        },
        "id": "-j6oVUIk-q8B",
        "outputId": "4dd091e3-1451-426a-bc43-d45718052984"
      },
      "execution_count": 5,
      "outputs": [
        {
          "output_type": "execute_result",
          "data": {
            "text/plain": [
              "array([1, 1, 1, 0])"
            ]
          },
          "metadata": {},
          "execution_count": 5
        }
      ]
    },
    {
      "cell_type": "code",
      "source": [
        "model1 = MLPClassifier(activation = 'logistic',\n",
        "                       solver = 'lbfgs',\n",
        "                       max_iter = 100,\n",
        "                       hidden_layer_sizes = (2,),\n",
        "                       random_state = 0)\n",
        "\n",
        "model1.fit(X, y)\n",
        "y_hat1 = model1.predict(X)\n",
        "\n",
        "weights = model1.coefs_\n",
        "bias = model1.intercepts_\n",
        "\n",
        "print(\"weights: {}\\nBias: {}\".format(weights, bias))"
      ],
      "metadata": {
        "colab": {
          "base_uri": "https://localhost:8080/"
        },
        "id": "44x_5q4--6Gb",
        "outputId": "533b4409-57c4-4c2b-9589-37cf9f9ac14b"
      },
      "execution_count": 6,
      "outputs": [
        {
          "output_type": "stream",
          "name": "stdout",
          "text": [
            "weights: [array([[-6.77800873,  6.41517868],\n",
            "       [-6.85166173,  6.30993013]]), array([[14.09816298],\n",
            "       [14.09027917]])]\n",
            "Bias: [array([10.7517662 , -2.81729815]), array([-21.20012772])]\n"
          ]
        }
      ]
    },
    {
      "cell_type": "code",
      "source": [
        "def sigmoid(X) :\n",
        "  result = 1 / (1 + np.exp(-X))\n",
        "  return result"
      ],
      "metadata": {
        "id": "PXT-uhtC__iF"
      },
      "execution_count": 7,
      "outputs": []
    },
    {
      "cell_type": "code",
      "source": [
        "b11 = weights[0][0][0] * X[:, 0] + weights[0][0][1] * X[:, 1]\n",
        "\n",
        "b11_act = sigmoid(b11)\n",
        "\n",
        "b12 = weights[0][1][0] * X[:, 0] + weights[0][1][1] * X[:, 1]\n",
        "\n",
        "b12_act = sigmoid(b12)\n",
        "\n",
        "print(\"b11_act: {}\\nb12_act: {}\".format(b11_act, b12_act))"
      ],
      "metadata": {
        "colab": {
          "base_uri": "https://localhost:8080/"
        },
        "id": "OkTpDsLxALKB",
        "outputId": "c4e7ed93-d4d9-47d9-f298-71e2a28c5237"
      },
      "execution_count": 8,
      "outputs": [
        {
          "output_type": "stream",
          "name": "stdout",
          "text": [
            "b11_act: [0.5        0.41027466 0.00113724 0.99836615]\n",
            "b12_act: [0.5        0.36778486 0.00105658 0.99818514]\n"
          ]
        }
      ]
    },
    {
      "cell_type": "code",
      "source": [
        "y_hat1"
      ],
      "metadata": {
        "colab": {
          "base_uri": "https://localhost:8080/"
        },
        "id": "SvfFczGnFB07",
        "outputId": "1432a76a-6a13-49ac-cb48-beb6c8d91bc3"
      },
      "execution_count": 9,
      "outputs": [
        {
          "output_type": "execute_result",
          "data": {
            "text/plain": [
              "array([0, 0, 1, 1])"
            ]
          },
          "metadata": {},
          "execution_count": 9
        }
      ]
    },
    {
      "cell_type": "code",
      "source": [
        "# 4개의 학습데이터 샘플을 첫 번째 좌표평면에 나타냄\n",
        "plt.figure(figsize=(12, 4))\n",
        "plt.subplot(1, 2, 1)\n",
        "plt.scatter(X[:, 0], X[:, 1], c=y, cmap=plt.cm.Spectral)\n",
        "plt.title('Input Data')\n",
        "plt.xlabel('x1')\n",
        "plt.ylabel('x2')\n",
        "\n",
        "# 2)-C에서 구한 히든 레이어에서의 출력 값들을 두 번째 좌표평면에 나타냄\n",
        "plt.subplot(1, 2, 2)\n",
        "plt.scatter(b11_act, b12_act, c=y, cmap=plt.cm.Spectral)\n",
        "plt.title('Hidden Layer Output')\n",
        "plt.xlabel('Neuron 1 Output')\n",
        "plt.ylabel('Neuron 2 Output')\n",
        "\n",
        "# 그래프 표시\n",
        "plt.show()"
      ],
      "metadata": {
        "colab": {
          "base_uri": "https://localhost:8080/",
          "height": 410
        },
        "id": "SfE0AEM_jKrF",
        "outputId": "eedb164e-0819-44f3-eb1f-791919a1a93a"
      },
      "execution_count": 12,
      "outputs": [
        {
          "output_type": "display_data",
          "data": {
            "text/plain": [
              "<Figure size 1200x400 with 2 Axes>"
            ],
            "image/png": "[encoded data removed]"
          },
          "metadata": {}
        }
      ]
    }
  ]
}