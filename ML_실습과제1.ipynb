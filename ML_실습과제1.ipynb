{
  "nbformat": 4,
  "nbformat_minor": 0,
  "metadata": {
    "colab": {
      "provenance": [],
      "authorship_tag": "ABX9TyObeblKJq7qwSjSDMtUW1BA",
      "include_colab_link": true
    },
    "kernelspec": {
      "name": "python3",
      "display_name": "Python 3"
    },
    "language_info": {
      "name": "python"
    }
  },
  "cells": [
    {
      "cell_type": "markdown",
      "metadata": {
        "id": "view-in-github",
        "colab_type": "text"
      },
      "source": [
        "<a href=\"https://colab.research.google.com/github/mingikim1/CNU_report/blob/main/ML_%EC%8B%A4%EC%8A%B5%EA%B3%BC%EC%A0%9C1.ipynb\" target=\"_parent\"><img src=\"https://colab.research.google.com/assets/colab-badge.svg\" alt=\"Open In Colab\"/></a>"
      ]
    },
    {
      "cell_type": "code",
      "source": [
        "from google.colab import drive\n",
        "drive.mount('/content/drive')"
      ],
      "metadata": {
        "colab": {
          "base_uri": "https://localhost:8080/"
        },
        "id": "347kqlbspTS2",
        "outputId": "d80c2358-4714-4a85-acdb-8db47a21e7d3"
      },
      "execution_count": 4,
      "outputs": [
        {
          "output_type": "stream",
          "name": "stdout",
          "text": [
            "Drive already mounted at /content/drive; to attempt to forcibly remount, call drive.mount(\"/content/drive\", force_remount=True).\n"
          ]
        }
      ]
    },
    {
      "cell_type": "code",
      "execution_count": 5,
      "metadata": {
        "id": "ExFqzEfVop3Z",
        "colab": {
          "base_uri": "https://localhost:8080/"
        },
        "outputId": "6d6b98eb-677d-4e31-db00-059bd78c1522"
      },
      "outputs": [
        {
          "output_type": "stream",
          "name": "stdout",
          "text": [
            "a2b2a1d2\n",
            "a1\n"
          ]
        }
      ],
      "source": [
        "f = open('/content/drive/MyDrive/ML_Lab/lab1_1_test.txt', 'r')\n",
        "\n",
        "for i in range(2) :\n",
        "  string = f.readline()\n",
        "  count = 1\n",
        "  for x in range(len(string)-1):\n",
        "    if string[x] == string[x+1]:\n",
        "        count += 1\n",
        "    else:\n",
        "        print(string[x]+str(count), end='')\n",
        "        count = 1\n",
        "  print()"
      ]
    }
  ]
}